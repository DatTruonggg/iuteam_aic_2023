{
 "cells": [
  {
   "cell_type": "code",
   "execution_count": 2,
   "id": "46157d8a",
   "metadata": {},
   "outputs": [],
   "source": [
    "import glob"
   ]
  },
  {
   "cell_type": "code",
   "execution_count": 6,
   "id": "138f0a3c",
   "metadata": {},
   "outputs": [
    {
     "name": "stdout",
     "output_type": "stream",
     "text": [
      "Chuyển đổi hoàn thành.\n"
     ]
    }
   ],
   "source": [
    "import numpy as np\n",
    "import glob\n",
    "\n",
    "# Đường dẫn đến thư mục chứa các file .npy\n",
    "folder_path = \"D:\\\\DatTruong\\\\All\\\\2025\\\\HCM_AI\\\\Data\\\\Clip_feature_full_augment\\\\\"\n",
    "\n",
    "# Tìm tất cả các file .npy trong thư mục\n",
    "npy_files = glob.glob(f\"{folder_path}*.npy\")\n",
    "\n",
    "# Lặp qua từng file và tạo bản sao với kiểu float32\n",
    "for npy_file in npy_files:\n",
    "    data = np.load(npy_file)  # Đọc dữ liệu từ file .npy\n",
    "    data_float32 = data.astype(np.float32)  # Chuyển đổi sang kiểu float32\n",
    "    new_file_name = npy_file.replace(\".npy\", \"_float32.npy\")  # Đặt tên cho file mới\n",
    "    np.save(new_file_name, data_float32)  # Lưu dữ liệu sang file mới\n",
    "\n",
    "print(\"Chuyển đổi hoàn thành.\")\n"
   ]
  },
  {
   "cell_type": "code",
   "execution_count": null,
   "id": "a94744ac",
   "metadata": {},
   "outputs": [],
   "source": []
  },
  {
   "cell_type": "code",
   "execution_count": null,
   "id": "6ea54c08",
   "metadata": {},
   "outputs": [],
   "source": [
    "feat_path = glob.glob(\"D:\\\\DatTruong\\\\All\\\\2025\\\\HCM_AI\\\\Data\\\\Clip_feature_full_augment\\\\*.npy\")\n",
    "feat_path = sorted(feat_path)\n",
    "feat_path"
   ]
  },
  {
   "cell_type": "code",
   "execution_count": null,
   "id": "93853409",
   "metadata": {},
   "outputs": [],
   "source": [
    "arr=[]\n",
    "for i in (feat_path):\n",
    "    feats_temp = np.load(i)\n",
    "    arr.append(feats_temp)\n",
    "\n",
    "feature_encode = np.vstack(arr)"
   ]
  }
 ],
 "metadata": {
  "kernelspec": {
   "display_name": "Python 3 (ipykernel)",
   "language": "python",
   "name": "python3"
  },
  "language_info": {
   "codemirror_mode": {
    "name": "ipython",
    "version": 3
   },
   "file_extension": ".py",
   "mimetype": "text/x-python",
   "name": "python",
   "nbconvert_exporter": "python",
   "pygments_lexer": "ipython3",
   "version": "3.10.12"
  }
 },
 "nbformat": 4,
 "nbformat_minor": 5
}
